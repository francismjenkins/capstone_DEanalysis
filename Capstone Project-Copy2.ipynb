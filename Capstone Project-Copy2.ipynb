{
 "cells": [
  {
   "cell_type": "markdown",
   "metadata": {
    "slideshow": {
     "slide_type": "slide"
    }
   },
   "source": [
    "## In this notebook:\n",
    "* The first dataset selected for analysis is clear cell renal carcinoma downloaded from TCGA\n",
    "* The dataset can be found at: https://tcga.xenahubs.net/download/TCGA.KIRC.sampleMap/HiSeqV2.gz\n",
    "* Brief discussion of the goal of this project and the workflow\n",
    "* Data wrangling/filtering\n",
    "* EDA and discussion of the mathematical principles underlying the different statistical approaches we demonstrate\n",
    "* Manual differential expression (DE) analysis using Python (using the t-test method)\n"
   ]
  },
  {
   "cell_type": "markdown",
   "metadata": {
    "slideshow": {
     "slide_type": "slide"
    }
   },
   "source": [
    "### Analysis of TCGA gene expression dataset for clear cell renal carcinoma.\n",
    "\n",
    "The goal of this analysis is to find differences in gene expression profiles between the two sample populations: normal cells vs cancer cells. The two groups will be compared through an analysis of a gene expression dataset downloaded from The Cancer Genome Atlas (TCGA). The dataset contains expression values (sequence counts) generated via the Illumina HiSeq platform. \n",
    "\n",
    "\n",
    "### Summary of the Differential Expression Analysis Workflow:\n",
    "\n",
    "1) Involves identifying genes whose expression levels change between two sample groups.\n",
    "\n",
    "2) We begin by importing our dataset and necessary packages.\n",
    "\n",
    "3) Then, we can reduce our dataset by filtering out all genes with zero values or using the IQR method.\n",
    "\n",
    "4) Next, we can split our dataset using regular expressions:\n",
    "\n",
    "    a) Expression values for cancer cells in one dataframe\n",
    "    \n",
    "    b) Expression values for normal cells in another dataframe\n",
    "\n",
    "5) Because the dataset has already been normalized and log(2) transformed, no additional preprocessing is required. \n",
    "\n",
    "6) The differential expression (DE) workflow:\n",
    "\n",
    "    a) Calculate the mean for each row (or each gene) in both dataframes\n",
    "    \n",
    "    b) calculate the variance for each row in both dataframes\n",
    "    \n",
    "    c) Calculate the t-statistic for each gene across both dataframes\n",
    "    \n",
    "    d) Because we have a large number of replicates for each group and only two groups, the t-statistic can be used\n",
    "   \n",
    "8) Show the top 25 differentially expressed genes.\n",
    "\n",
    "### Purpose and intended audience\n",
    "* The purpose of this project is to demonstrate techniques for performing basic gene expression analysis\n",
    "* This can be useful to novice bioinformaticians and enthusiasts interested in learning efficient techniques to perform gene expression analysis\n"
   ]
  },
  {
   "cell_type": "markdown",
   "metadata": {
    "slideshow": {
     "slide_type": "slide"
    }
   },
   "source": [
    "## Data wrangling"
   ]
  },
  {
   "cell_type": "code",
   "execution_count": 1,
   "metadata": {
    "scrolled": true,
    "slideshow": {
     "slide_type": "subslide"
    }
   },
   "outputs": [
    {
     "name": "stdout",
     "output_type": "stream",
     "text": [
      "Current working directory /home/frank/Documents\n"
     ]
    }
   ],
   "source": [
    "import pandas as pd\n",
    "import os\n",
    "import numpy as np\n",
    "import matplotlib.pyplot as plt\n",
    " \n",
    "%matplotlib inline\n",
    " \n",
    "print(\"Current working directory\" , os.getcwd()) # print out current working directory"
   ]
  },
  {
   "cell_type": "markdown",
   "metadata": {
    "slideshow": {
     "slide_type": "slide"
    }
   },
   "source": [
    "### Read in data and print header"
   ]
  },
  {
   "cell_type": "code",
   "execution_count": 2,
   "metadata": {
    "slideshow": {
     "slide_type": "subslide"
    }
   },
   "outputs": [],
   "source": [
    "os.chdir('/home/frank/Documents')"
   ]
  },
  {
   "cell_type": "code",
   "execution_count": 3,
   "metadata": {
    "slideshow": {
     "slide_type": "subslide"
    }
   },
   "outputs": [
    {
     "data": {
      "text/html": [
       "<div>\n",
       "<style scoped>\n",
       "    .dataframe tbody tr th:only-of-type {\n",
       "        vertical-align: middle;\n",
       "    }\n",
       "\n",
       "    .dataframe tbody tr th {\n",
       "        vertical-align: top;\n",
       "    }\n",
       "\n",
       "    .dataframe thead th {\n",
       "        text-align: right;\n",
       "    }\n",
       "</style>\n",
       "<table border=\"1\" class=\"dataframe\">\n",
       "  <thead>\n",
       "    <tr style=\"text-align: right;\">\n",
       "      <th></th>\n",
       "      <th>sample</th>\n",
       "      <th>TCGA-BP-4162-01</th>\n",
       "      <th>TCGA-CJ-5677-11</th>\n",
       "      <th>TCGA-DV-5566-01</th>\n",
       "      <th>TCGA-BP-5191-01</th>\n",
       "      <th>TCGA-BP-5200-01</th>\n",
       "      <th>TCGA-BP-4347-01</th>\n",
       "      <th>TCGA-BP-4770-01</th>\n",
       "      <th>TCGA-B0-5696-11</th>\n",
       "      <th>TCGA-BP-4762-01</th>\n",
       "      <th>...</th>\n",
       "      <th>TCGA-B0-5104-01</th>\n",
       "      <th>TCGA-A3-3313-01</th>\n",
       "      <th>TCGA-B2-5633-01</th>\n",
       "      <th>TCGA-CJ-4872-01</th>\n",
       "      <th>TCGA-CJ-5684-01</th>\n",
       "      <th>TCGA-CJ-4886-01</th>\n",
       "      <th>TCGA-BP-5009-01</th>\n",
       "      <th>TCGA-BP-4969-01</th>\n",
       "      <th>TCGA-CZ-5461-01</th>\n",
       "      <th>TCGA-CW-5587-01</th>\n",
       "    </tr>\n",
       "  </thead>\n",
       "  <tbody>\n",
       "    <tr>\n",
       "      <th>0</th>\n",
       "      <td>ARHGEF10L</td>\n",
       "      <td>10.5030</td>\n",
       "      <td>10.8969</td>\n",
       "      <td>10.7612</td>\n",
       "      <td>10.2063</td>\n",
       "      <td>10.0616</td>\n",
       "      <td>10.0193</td>\n",
       "      <td>8.4364</td>\n",
       "      <td>11.1427</td>\n",
       "      <td>9.9150</td>\n",
       "      <td>...</td>\n",
       "      <td>10.5586</td>\n",
       "      <td>9.5556</td>\n",
       "      <td>10.2652</td>\n",
       "      <td>9.4981</td>\n",
       "      <td>10.2751</td>\n",
       "      <td>9.9525</td>\n",
       "      <td>10.1273</td>\n",
       "      <td>10.8817</td>\n",
       "      <td>10.1949</td>\n",
       "      <td>10.3294</td>\n",
       "    </tr>\n",
       "    <tr>\n",
       "      <th>1</th>\n",
       "      <td>HIF3A</td>\n",
       "      <td>5.5283</td>\n",
       "      <td>6.4943</td>\n",
       "      <td>5.7842</td>\n",
       "      <td>5.0063</td>\n",
       "      <td>5.3326</td>\n",
       "      <td>7.6102</td>\n",
       "      <td>6.0422</td>\n",
       "      <td>5.9789</td>\n",
       "      <td>3.7802</td>\n",
       "      <td>...</td>\n",
       "      <td>6.2061</td>\n",
       "      <td>4.8253</td>\n",
       "      <td>5.1680</td>\n",
       "      <td>8.6195</td>\n",
       "      <td>6.2080</td>\n",
       "      <td>6.3116</td>\n",
       "      <td>6.7446</td>\n",
       "      <td>7.8293</td>\n",
       "      <td>6.1788</td>\n",
       "      <td>6.2293</td>\n",
       "    </tr>\n",
       "    <tr>\n",
       "      <th>2</th>\n",
       "      <td>RNF17</td>\n",
       "      <td>3.8036</td>\n",
       "      <td>0.0000</td>\n",
       "      <td>0.0000</td>\n",
       "      <td>0.0000</td>\n",
       "      <td>0.0000</td>\n",
       "      <td>0.3386</td>\n",
       "      <td>0.0000</td>\n",
       "      <td>0.0000</td>\n",
       "      <td>0.0000</td>\n",
       "      <td>...</td>\n",
       "      <td>0.0000</td>\n",
       "      <td>0.0000</td>\n",
       "      <td>0.0000</td>\n",
       "      <td>0.0000</td>\n",
       "      <td>0.0000</td>\n",
       "      <td>0.0000</td>\n",
       "      <td>0.0000</td>\n",
       "      <td>0.0000</td>\n",
       "      <td>0.6128</td>\n",
       "      <td>0.0000</td>\n",
       "    </tr>\n",
       "    <tr>\n",
       "      <th>3</th>\n",
       "      <td>RNF10</td>\n",
       "      <td>11.4379</td>\n",
       "      <td>12.2130</td>\n",
       "      <td>11.5478</td>\n",
       "      <td>12.3439</td>\n",
       "      <td>11.5149</td>\n",
       "      <td>11.4065</td>\n",
       "      <td>12.1963</td>\n",
       "      <td>12.3946</td>\n",
       "      <td>11.3734</td>\n",
       "      <td>...</td>\n",
       "      <td>11.7338</td>\n",
       "      <td>11.7709</td>\n",
       "      <td>11.4968</td>\n",
       "      <td>11.9561</td>\n",
       "      <td>11.7518</td>\n",
       "      <td>11.5698</td>\n",
       "      <td>12.1565</td>\n",
       "      <td>11.3048</td>\n",
       "      <td>11.5168</td>\n",
       "      <td>11.3489</td>\n",
       "    </tr>\n",
       "    <tr>\n",
       "      <th>4</th>\n",
       "      <td>RNF11</td>\n",
       "      <td>11.4180</td>\n",
       "      <td>11.8248</td>\n",
       "      <td>11.3190</td>\n",
       "      <td>10.3413</td>\n",
       "      <td>11.2923</td>\n",
       "      <td>10.9971</td>\n",
       "      <td>11.8936</td>\n",
       "      <td>11.7217</td>\n",
       "      <td>12.2329</td>\n",
       "      <td>...</td>\n",
       "      <td>11.7629</td>\n",
       "      <td>10.2373</td>\n",
       "      <td>11.4637</td>\n",
       "      <td>11.4391</td>\n",
       "      <td>11.3992</td>\n",
       "      <td>11.4937</td>\n",
       "      <td>11.4015</td>\n",
       "      <td>10.8842</td>\n",
       "      <td>11.6230</td>\n",
       "      <td>11.5469</td>\n",
       "    </tr>\n",
       "  </tbody>\n",
       "</table>\n",
       "<p>5 rows × 607 columns</p>\n",
       "</div>"
      ],
      "text/plain": [
       "      sample  TCGA-BP-4162-01  TCGA-CJ-5677-11  TCGA-DV-5566-01  \\\n",
       "0  ARHGEF10L          10.5030          10.8969          10.7612   \n",
       "1      HIF3A           5.5283           6.4943           5.7842   \n",
       "2      RNF17           3.8036           0.0000           0.0000   \n",
       "3      RNF10          11.4379          12.2130          11.5478   \n",
       "4      RNF11          11.4180          11.8248          11.3190   \n",
       "\n",
       "   TCGA-BP-5191-01  TCGA-BP-5200-01  TCGA-BP-4347-01  TCGA-BP-4770-01  \\\n",
       "0          10.2063          10.0616          10.0193           8.4364   \n",
       "1           5.0063           5.3326           7.6102           6.0422   \n",
       "2           0.0000           0.0000           0.3386           0.0000   \n",
       "3          12.3439          11.5149          11.4065          12.1963   \n",
       "4          10.3413          11.2923          10.9971          11.8936   \n",
       "\n",
       "   TCGA-B0-5696-11  TCGA-BP-4762-01       ...         TCGA-B0-5104-01  \\\n",
       "0          11.1427           9.9150       ...                 10.5586   \n",
       "1           5.9789           3.7802       ...                  6.2061   \n",
       "2           0.0000           0.0000       ...                  0.0000   \n",
       "3          12.3946          11.3734       ...                 11.7338   \n",
       "4          11.7217          12.2329       ...                 11.7629   \n",
       "\n",
       "   TCGA-A3-3313-01  TCGA-B2-5633-01  TCGA-CJ-4872-01  TCGA-CJ-5684-01  \\\n",
       "0           9.5556          10.2652           9.4981          10.2751   \n",
       "1           4.8253           5.1680           8.6195           6.2080   \n",
       "2           0.0000           0.0000           0.0000           0.0000   \n",
       "3          11.7709          11.4968          11.9561          11.7518   \n",
       "4          10.2373          11.4637          11.4391          11.3992   \n",
       "\n",
       "   TCGA-CJ-4886-01  TCGA-BP-5009-01  TCGA-BP-4969-01  TCGA-CZ-5461-01  \\\n",
       "0           9.9525          10.1273          10.8817          10.1949   \n",
       "1           6.3116           6.7446           7.8293           6.1788   \n",
       "2           0.0000           0.0000           0.0000           0.6128   \n",
       "3          11.5698          12.1565          11.3048          11.5168   \n",
       "4          11.4937          11.4015          10.8842          11.6230   \n",
       "\n",
       "   TCGA-CW-5587-01  \n",
       "0          10.3294  \n",
       "1           6.2293  \n",
       "2           0.0000  \n",
       "3          11.3489  \n",
       "4          11.5469  \n",
       "\n",
       "[5 rows x 607 columns]"
      ]
     },
     "execution_count": 3,
     "metadata": {},
     "output_type": "execute_result"
    }
   ],
   "source": [
    "filename = 'HiSeqV2.csv' # assign dataset to filename object\n",
    "data = pd.read_csv(filename, sep = ',') # read in csv file as pandas dataframe\n",
    "data.head()"
   ]
  },
  {
   "cell_type": "code",
   "execution_count": 4,
   "metadata": {
    "slideshow": {
     "slide_type": "subslide"
    }
   },
   "outputs": [],
   "source": [
    "data = data.set_index('sample')"
   ]
  },
  {
   "cell_type": "code",
   "execution_count": 14,
   "metadata": {},
   "outputs": [
    {
     "data": {
      "text/plain": [
       "(20530, 606)"
      ]
     },
     "execution_count": 14,
     "metadata": {},
     "output_type": "execute_result"
    }
   ],
   "source": [
    "data.shape"
   ]
  },
  {
   "cell_type": "markdown",
   "metadata": {},
   "source": [
    "### Use the z-score method for outlier detection\n",
    "* First we remove rows with zero values\n",
    "* Next, we remove rows with a z-score < abs(3)\n"
   ]
  },
  {
   "cell_type": "code",
   "execution_count": 15,
   "metadata": {},
   "outputs": [
    {
     "data": {
      "text/plain": [
       "(12580, 606)"
      ]
     },
     "execution_count": 15,
     "metadata": {},
     "output_type": "execute_result"
    }
   ],
   "source": [
    "df_replace = data.replace(0.0000, np.nan)\n",
    "df_dropped = df_replace.dropna(axis=0, how='any')\n",
    "df_dropped.shape"
   ]
  },
  {
   "cell_type": "code",
   "execution_count": 16,
   "metadata": {},
   "outputs": [
    {
     "data": {
      "text/plain": [
       "(11002, 606)"
      ]
     },
     "execution_count": 16,
     "metadata": {},
     "output_type": "execute_result"
    }
   ],
   "source": [
    "from scipy import stats\n",
    "df_dropped = df_dropped[(np.abs(stats.zscore(df_dropped)) < 3).all(axis=1)]\n",
    "df_dropped.shape\n"
   ]
  },
  {
   "cell_type": "markdown",
   "metadata": {},
   "source": [
    "### Demonstrate the IQR method to filter outliers"
   ]
  },
  {
   "cell_type": "code",
   "execution_count": 182,
   "metadata": {},
   "outputs": [
    {
     "data": {
      "text/plain": [
       "sample\n",
       "ARHGEF10L    0.81585\n",
       "HIF3A        1.89450\n",
       "RNF17        0.00000\n",
       "RNF10        0.46930\n",
       "RNF11        0.51000\n",
       "dtype: float64"
      ]
     },
     "execution_count": 182,
     "metadata": {},
     "output_type": "execute_result"
    }
   ],
   "source": [
    "data_ = data.T # we transpose the dataset because quantile works on a column-wise basis\n",
    "Q1 = data_.quantile(0.25)\n",
    "Q3 = data_.quantile(0.75)\n",
    "IQR = Q3 - Q1\n",
    "IQR.head()"
   ]
  },
  {
   "cell_type": "markdown",
   "metadata": {},
   "source": [
    "* As shown, eliminating rows with zeros and z-scores < abs(3) was able to significantly truncate the dataset\n",
    "* Through robust filtering of outliers we can minimize the rate of false positives\n",
    "* The IQR method is another commonly used technique\n",
    "* However, where we have a large number of samples (> 12) the z-score method is appropriate\n",
    "* Moreover, the IQR method requires additional coding:\n",
    "    * As shown, our counts are removed when calling the quantile() method\n",
    "    * In order to preserve our counts and utilize the IQR method we must:\n",
    "    \n",
    "        1) Perform the IQR method as shown above\n",
    "        \n",
    "        2) Create a new dataframe containing the intersection of IQR and our original dataframe (data)\n",
    "        \n",
    "        3) In this case it would have been inefficient considering we were only able to find a small number of outliers using the IQR method\n",
    "        \n",
    "* It should be noted, removing all rows containing zeros is considered a rather aggressive method of outlier removal, and thus it's not appropriate for all applications\n",
    "* However, for demonstration purposes, we will use df_dropped for our manual DE analysis\n"
   ]
  },
  {
   "cell_type": "markdown",
   "metadata": {},
   "source": [
    "### Let's look at the shape of the distribution for the unprocessed dataset"
   ]
  },
  {
   "cell_type": "code",
   "execution_count": 35,
   "metadata": {},
   "outputs": [
    {
     "data": {
      "text/plain": [
       "<matplotlib.axes._subplots.AxesSubplot at 0x1d8b92a5b38>"
      ]
     },
     "execution_count": 35,
     "metadata": {},
     "output_type": "execute_result"
    },
    {
     "data": {
      "image/png": "[encoded data removed]",
      "text/plain": [
       "<Figure size 432x288 with 1 Axes>"
      ]
     },
     "metadata": {},
     "output_type": "display_data"
    }
   ],
   "source": [
    "data.plot(kind='kde', legend=False) "
   ]
  },
  {
   "cell_type": "markdown",
   "metadata": {},
   "source": [
    "### Let's compare the above plot to the shape of the distribution after outlier filtering"
   ]
  },
  {
   "cell_type": "code",
   "execution_count": 183,
   "metadata": {},
   "outputs": [
    {
     "data": {
      "text/plain": [
       "<matplotlib.axes._subplots.AxesSubplot at 0x1d880be34e0>"
      ]
     },
     "execution_count": 183,
     "metadata": {},
     "output_type": "execute_result"
    },
    {
     "data": {
      "image/png": "[encoded data removed]",
      "text/plain": [
       "<Figure size 432x288 with 1 Axes>"
      ]
     },
     "metadata": {},
     "output_type": "display_data"
    }
   ],
   "source": [
    "df_dropped.plot(kind='kde', legend=False)"
   ]
  },
  {
   "cell_type": "markdown",
   "metadata": {},
   "source": [
    "* As shown, filtering outliers from our data appears to have normalized our distribution\n",
    "* Please note, the original dataset downloaded from TCGA was already normalized and log2 transformed\n",
    "* If we're working with raw sequence data, we would need to normalize and transform the data\n",
    "* Since the dataset has been normalized, the only additional preprocessing required is to split our data by sample type"
   ]
  },
  {
   "cell_type": "markdown",
   "metadata": {
    "slideshow": {
     "slide_type": "slide"
    }
   },
   "source": [
    "### Split data into two dataframes:\n",
    "* The first dataframe (df1) contains expression values for normal cells\n",
    "* The second dataframe (df2) contains expression values for cancer cells"
   ]
  },
  {
   "cell_type": "code",
   "execution_count": 17,
   "metadata": {
    "slideshow": {
     "slide_type": "subslide"
    }
   },
   "outputs": [],
   "source": [
    "df1 = df_dropped.filter(regex = 'sample|11$', axis =1)\n",
    "# Creating new dataframe with only columns containing expression values for normal cells"
   ]
  },
  {
   "cell_type": "code",
   "execution_count": 18,
   "metadata": {
    "slideshow": {
     "slide_type": "subslide"
    }
   },
   "outputs": [
    {
     "data": {
      "text/plain": [
       "(11002, 72)"
      ]
     },
     "execution_count": 18,
     "metadata": {},
     "output_type": "execute_result"
    }
   ],
   "source": [
    "df1.shape"
   ]
  },
  {
   "cell_type": "code",
   "execution_count": 19,
   "metadata": {
    "slideshow": {
     "slide_type": "subslide"
    }
   },
   "outputs": [],
   "source": [
    "df2 = df_dropped.filter(regex = 'sample|01|05$', axis = 1)\n",
    "# Creating new dataframe with only columns containing expression values for cancer cells"
   ]
  },
  {
   "cell_type": "code",
   "execution_count": 20,
   "metadata": {
    "slideshow": {
     "slide_type": "subslide"
    }
   },
   "outputs": [
    {
     "data": {
      "text/plain": [
       "(11002, 535)"
      ]
     },
     "execution_count": 20,
     "metadata": {},
     "output_type": "execute_result"
    }
   ],
   "source": [
    "df2.shape"
   ]
  },
  {
   "cell_type": "markdown",
   "metadata": {
    "slideshow": {
     "slide_type": "slide"
    }
   },
   "source": [
    "### Generate density plots to visualize the shape of the distribution after outlier removal"
   ]
  },
  {
   "cell_type": "markdown",
   "metadata": {
    "slideshow": {
     "slide_type": "subslide"
    }
   },
   "source": [
    "#### KDE plots of processed data separated by sample type (cancer/normal)"
   ]
  },
  {
   "cell_type": "code",
   "execution_count": 188,
   "metadata": {},
   "outputs": [
    {
     "data": {
      "text/plain": [
       "<matplotlib.axes._subplots.AxesSubplot at 0x1d881416048>"
      ]
     },
     "execution_count": 188,
     "metadata": {},
     "output_type": "execute_result"
    },
    {
     "data": {
      "image/png": "[encoded data removed]",
      "text/plain": [
       "<Figure size 432x288 with 1 Axes>"
      ]
     },
     "metadata": {},
     "output_type": "display_data"
    }
   ],
   "source": [
    "df1.plot(kind='kde', legend=False) # normal cells"
   ]
  },
  {
   "cell_type": "code",
   "execution_count": 189,
   "metadata": {},
   "outputs": [
    {
     "data": {
      "text/plain": [
       "<matplotlib.axes._subplots.AxesSubplot at 0x1d880e82470>"
      ]
     },
     "execution_count": 189,
     "metadata": {},
     "output_type": "execute_result"
    },
    {
     "data": {
      "image/png": "[encoded data removed]",
      "text/plain": [
       "<Figure size 432x288 with 1 Axes>"
      ]
     },
     "metadata": {},
     "output_type": "display_data"
    }
   ],
   "source": [
    "df2.plot(kind='kde', legend=False) # cancer cells"
   ]
  },
  {
   "cell_type": "markdown",
   "metadata": {},
   "source": [
    "As expected, splitting our data by sample type did not affect the shape of the distribution"
   ]
  },
  {
   "cell_type": "markdown",
   "metadata": {
    "slideshow": {
     "slide_type": "slide"
    }
   },
   "source": [
    "### Add columns with row-wise mean & variance to gene exp dataframes"
   ]
  },
  {
   "cell_type": "code",
   "execution_count": 21,
   "metadata": {
    "slideshow": {
     "slide_type": "subslide"
    }
   },
   "outputs": [],
   "source": [
    "import warnings\n",
    "warnings.simplefilter(\"ignore\")\n",
    "from scipy.stats import ttest_ind, ttest_ind_from_stats\n",
    "\n",
    "\n",
    "df1['mean1'] = df1[df1.columns].mean(axis=1)\n",
    "df1['variance1'] = df1[df1.columns].var(axis=1)\n",
    "df2['mean2'] = df2[df2.columns].mean(axis=1)\n",
    "df2['variance2'] = df2[df2.columns].var(axis=1)\n",
    "\n"
   ]
  },
  {
   "cell_type": "code",
   "execution_count": 22,
   "metadata": {
    "slideshow": {
     "slide_type": "subslide"
    }
   },
   "outputs": [
    {
     "data": {
      "text/html": [
       "<div>\n",
       "<style scoped>\n",
       "    .dataframe tbody tr th:only-of-type {\n",
       "        vertical-align: middle;\n",
       "    }\n",
       "\n",
       "    .dataframe tbody tr th {\n",
       "        vertical-align: top;\n",
       "    }\n",
       "\n",
       "    .dataframe thead th {\n",
       "        text-align: right;\n",
       "    }\n",
       "</style>\n",
       "<table border=\"1\" class=\"dataframe\">\n",
       "  <thead>\n",
       "    <tr style=\"text-align: right;\">\n",
       "      <th></th>\n",
       "      <th>mean1</th>\n",
       "      <th>variance1</th>\n",
       "    </tr>\n",
       "    <tr>\n",
       "      <th>sample</th>\n",
       "      <th></th>\n",
       "      <th></th>\n",
       "    </tr>\n",
       "  </thead>\n",
       "  <tbody>\n",
       "    <tr>\n",
       "      <th>ARHGEF10L</th>\n",
       "      <td>10.587401</td>\n",
       "      <td>0.124498</td>\n",
       "    </tr>\n",
       "    <tr>\n",
       "      <th>RNF10</th>\n",
       "      <td>12.214072</td>\n",
       "      <td>0.057677</td>\n",
       "    </tr>\n",
       "    <tr>\n",
       "      <th>RNF11</th>\n",
       "      <td>11.827933</td>\n",
       "      <td>0.047012</td>\n",
       "    </tr>\n",
       "    <tr>\n",
       "      <th>RNF13</th>\n",
       "      <td>10.933962</td>\n",
       "      <td>0.038483</td>\n",
       "    </tr>\n",
       "    <tr>\n",
       "      <th>GTF2IP1</th>\n",
       "      <td>12.697869</td>\n",
       "      <td>0.083764</td>\n",
       "    </tr>\n",
       "  </tbody>\n",
       "</table>\n",
       "</div>"
      ],
      "text/plain": [
       "               mean1  variance1\n",
       "sample                         \n",
       "ARHGEF10L  10.587401   0.124498\n",
       "RNF10      12.214072   0.057677\n",
       "RNF11      11.827933   0.047012\n",
       "RNF13      10.933962   0.038483\n",
       "GTF2IP1    12.697869   0.083764"
      ]
     },
     "execution_count": 22,
     "metadata": {},
     "output_type": "execute_result"
    }
   ],
   "source": [
    "df1_stats = df1[['mean1', 'variance1']]\n",
    "df1_stats.head()"
   ]
  },
  {
   "cell_type": "code",
   "execution_count": 23,
   "metadata": {
    "slideshow": {
     "slide_type": "subslide"
    }
   },
   "outputs": [
    {
     "data": {
      "text/html": [
       "<div>\n",
       "<style scoped>\n",
       "    .dataframe tbody tr th:only-of-type {\n",
       "        vertical-align: middle;\n",
       "    }\n",
       "\n",
       "    .dataframe tbody tr th {\n",
       "        vertical-align: top;\n",
       "    }\n",
       "\n",
       "    .dataframe thead th {\n",
       "        text-align: right;\n",
       "    }\n",
       "</style>\n",
       "<table border=\"1\" class=\"dataframe\">\n",
       "  <thead>\n",
       "    <tr style=\"text-align: right;\">\n",
       "      <th></th>\n",
       "      <th>mean2</th>\n",
       "      <th>variance2</th>\n",
       "    </tr>\n",
       "    <tr>\n",
       "      <th>sample</th>\n",
       "      <th></th>\n",
       "      <th></th>\n",
       "    </tr>\n",
       "  </thead>\n",
       "  <tbody>\n",
       "    <tr>\n",
       "      <th>ARHGEF10L</th>\n",
       "      <td>10.132370</td>\n",
       "      <td>0.506471</td>\n",
       "    </tr>\n",
       "    <tr>\n",
       "      <th>RNF10</th>\n",
       "      <td>11.675401</td>\n",
       "      <td>0.102617</td>\n",
       "    </tr>\n",
       "    <tr>\n",
       "      <th>RNF11</th>\n",
       "      <td>11.322741</td>\n",
       "      <td>0.198024</td>\n",
       "    </tr>\n",
       "    <tr>\n",
       "      <th>RNF13</th>\n",
       "      <td>10.980765</td>\n",
       "      <td>0.231565</td>\n",
       "    </tr>\n",
       "    <tr>\n",
       "      <th>GTF2IP1</th>\n",
       "      <td>12.394156</td>\n",
       "      <td>0.192427</td>\n",
       "    </tr>\n",
       "  </tbody>\n",
       "</table>\n",
       "</div>"
      ],
      "text/plain": [
       "               mean2  variance2\n",
       "sample                         \n",
       "ARHGEF10L  10.132370   0.506471\n",
       "RNF10      11.675401   0.102617\n",
       "RNF11      11.322741   0.198024\n",
       "RNF13      10.980765   0.231565\n",
       "GTF2IP1    12.394156   0.192427"
      ]
     },
     "execution_count": 23,
     "metadata": {},
     "output_type": "execute_result"
    }
   ],
   "source": [
    "df2_stats = df2[['mean2', 'variance2']]\n",
    "df2_stats.head()"
   ]
  },
  {
   "cell_type": "markdown",
   "metadata": {},
   "source": [
    "### Concatenate mean/variance columns of gene exp dataframes"
   ]
  },
  {
   "cell_type": "code",
   "execution_count": 24,
   "metadata": {
    "slideshow": {
     "slide_type": "subslide"
    }
   },
   "outputs": [],
   "source": [
    "df = pd.concat([df1_stats, df2_stats], axis=1)"
   ]
  },
  {
   "cell_type": "code",
   "execution_count": 25,
   "metadata": {
    "slideshow": {
     "slide_type": "subslide"
    }
   },
   "outputs": [
    {
     "data": {
      "text/plain": [
       "(11002, 74)"
      ]
     },
     "execution_count": 25,
     "metadata": {},
     "output_type": "execute_result"
    }
   ],
   "source": [
    "df1.shape"
   ]
  },
  {
   "cell_type": "code",
   "execution_count": 26,
   "metadata": {
    "slideshow": {
     "slide_type": "subslide"
    }
   },
   "outputs": [
    {
     "data": {
      "text/plain": [
       "(11002, 537)"
      ]
     },
     "execution_count": 26,
     "metadata": {},
     "output_type": "execute_result"
    }
   ],
   "source": [
    "df2.shape"
   ]
  },
  {
   "cell_type": "markdown",
   "metadata": {},
   "source": [
    "### Visualize the new dataframe to confirm proper formatting"
   ]
  },
  {
   "cell_type": "code",
   "execution_count": 27,
   "metadata": {},
   "outputs": [
    {
     "data": {
      "text/html": [
       "<div>\n",
       "<style scoped>\n",
       "    .dataframe tbody tr th:only-of-type {\n",
       "        vertical-align: middle;\n",
       "    }\n",
       "\n",
       "    .dataframe tbody tr th {\n",
       "        vertical-align: top;\n",
       "    }\n",
       "\n",
       "    .dataframe thead th {\n",
       "        text-align: right;\n",
       "    }\n",
       "</style>\n",
       "<table border=\"1\" class=\"dataframe\">\n",
       "  <thead>\n",
       "    <tr style=\"text-align: right;\">\n",
       "      <th></th>\n",
       "      <th>mean1</th>\n",
       "      <th>variance1</th>\n",
       "      <th>mean2</th>\n",
       "      <th>variance2</th>\n",
       "    </tr>\n",
       "    <tr>\n",
       "      <th>sample</th>\n",
       "      <th></th>\n",
       "      <th></th>\n",
       "      <th></th>\n",
       "      <th></th>\n",
       "    </tr>\n",
       "  </thead>\n",
       "  <tbody>\n",
       "    <tr>\n",
       "      <th>ARHGEF10L</th>\n",
       "      <td>10.587401</td>\n",
       "      <td>0.124498</td>\n",
       "      <td>10.132370</td>\n",
       "      <td>0.506471</td>\n",
       "    </tr>\n",
       "    <tr>\n",
       "      <th>RNF10</th>\n",
       "      <td>12.214072</td>\n",
       "      <td>0.057677</td>\n",
       "      <td>11.675401</td>\n",
       "      <td>0.102617</td>\n",
       "    </tr>\n",
       "    <tr>\n",
       "      <th>RNF11</th>\n",
       "      <td>11.827933</td>\n",
       "      <td>0.047012</td>\n",
       "      <td>11.322741</td>\n",
       "      <td>0.198024</td>\n",
       "    </tr>\n",
       "  </tbody>\n",
       "</table>\n",
       "</div>"
      ],
      "text/plain": [
       "               mean1  variance1      mean2  variance2\n",
       "sample                                               \n",
       "ARHGEF10L  10.587401   0.124498  10.132370   0.506471\n",
       "RNF10      12.214072   0.057677  11.675401   0.102617\n",
       "RNF11      11.827933   0.047012  11.322741   0.198024"
      ]
     },
     "execution_count": 27,
     "metadata": {},
     "output_type": "execute_result"
    }
   ],
   "source": [
    "df.head(3)"
   ]
  },
  {
   "cell_type": "markdown",
   "metadata": {},
   "source": [
    "# T-statistic vs the negative binomial method of DE analysis:\n",
    "* At one time the Poison distribution was used to test for differential expression\n",
    "* However, the Poison distribution is too restrictive and does a poor job of controlling the false discovery rate\n",
    "* To address this over-disperson problem, count data can be modeled with negative binomial distributions\n",
    "* The negative binomial (NB) method works extremely well for small datasets\n",
    "* NB assumes the mean and variance are related (using a single proportionality constant)\n",
    "* However, the t-test method uses the actual mean and variance\n",
    "* Thus, if the sample size is large (as is the case here), the t-test method is appropriate"
   ]
  },
  {
   "cell_type": "markdown",
   "metadata": {},
   "source": [
    "# Differential expression analysis\n",
    "* Run t-test and load results in new column\n",
    "* Sort results \n",
    "* Print top 25 differentially expressed genes"
   ]
  },
  {
   "cell_type": "code",
   "execution_count": 28,
   "metadata": {
    "slideshow": {
     "slide_type": "subslide"
    }
   },
   "outputs": [],
   "source": [
    "df['ttest'] = abs((df['mean1'] - df['mean2'])/(np.sqrt(df['variance1']/74 + df['variance2']/537)))"
   ]
  },
  {
   "cell_type": "code",
   "execution_count": 29,
   "metadata": {
    "slideshow": {
     "slide_type": "subslide"
    }
   },
   "outputs": [
    {
     "data": {
      "text/plain": [
       "(11002,)"
      ]
     },
     "execution_count": 29,
     "metadata": {},
     "output_type": "execute_result"
    }
   ],
   "source": [
    "diffexp_results = df['ttest']\n",
    "diffexp = diffexp_results.sort_values(ascending=False)\n",
    "diffexp.shape"
   ]
  },
  {
   "cell_type": "markdown",
   "metadata": {
    "slideshow": {
     "slide_type": "slide"
    }
   },
   "source": [
    "## The top 25 differentially expressed genes:"
   ]
  },
  {
   "cell_type": "code",
   "execution_count": 30,
   "metadata": {
    "slideshow": {
     "slide_type": "subslide"
    }
   },
   "outputs": [
    {
     "data": {
      "text/plain": [
       "sample\n",
       "NOL3        41.102853\n",
       "BRCC3       39.666073\n",
       "C7orf68     39.328517\n",
       "SLC15A4     38.738762\n",
       "DDB2        37.573465\n",
       "ZNF395      36.747181\n",
       "SPAG4       36.731714\n",
       "KRBA1       36.530676\n",
       "MECOM       35.674698\n",
       "PIP4K2C     35.659240\n",
       "SLC2A12     34.815115\n",
       "ANXA9       34.602081\n",
       "TMEM91      34.378348\n",
       "CLEC2D      34.314237\n",
       "C9orf100    34.303152\n",
       "MAN1C1      33.959008\n",
       "KLHL13      33.840880\n",
       "SAP30       33.778910\n",
       "EPB41L5     33.239333\n",
       "LRRC16A     32.981177\n",
       "ATP6V1H     32.723150\n",
       "NETO2       32.702144\n",
       "SEMA5B      32.670660\n",
       "SNX33       32.656142\n",
       "Name: ttest, dtype: float64"
      ]
     },
     "execution_count": 30,
     "metadata": {},
     "output_type": "execute_result"
    }
   ],
   "source": [
    "results = diffexp.iloc[1:25]\n",
    "results"
   ]
  }
 ],
 "metadata": {
  "kernelspec": {
   "display_name": "Python 3",
   "language": "python",
   "name": "python3"
  },
  "language_info": {
   "codemirror_mode": {
    "name": "ipython",
    "version": 3
   },
   "file_extension": ".py",
   "mimetype": "text/x-python",
   "name": "python",
   "nbconvert_exporter": "python",
   "pygments_lexer": "ipython3",
   "version": "3.6.5"
  }
 },
 "nbformat": 4,
 "nbformat_minor": 2
}
